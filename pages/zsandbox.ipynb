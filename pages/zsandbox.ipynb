{
 "cells": [
  {
   "cell_type": "markdown",
   "id": "94984d99",
   "metadata": {},
   "source": [
    "# Probar Acceso a Datos"
   ]
  },
  {
   "cell_type": "code",
   "execution_count": 1,
   "id": "cb5b46b3",
   "metadata": {},
   "outputs": [
    {
     "name": "stdout",
     "output_type": "stream",
     "text": [
      "['C:\\\\Users\\\\eduar\\\\AppData\\\\Local\\\\Programs\\\\Python\\\\Python311\\\\python311.zip', 'C:\\\\Users\\\\eduar\\\\AppData\\\\Local\\\\Programs\\\\Python\\\\Python311\\\\DLLs', 'C:\\\\Users\\\\eduar\\\\AppData\\\\Local\\\\Programs\\\\Python\\\\Python311\\\\Lib', 'C:\\\\Users\\\\eduar\\\\AppData\\\\Local\\\\Programs\\\\Python\\\\Python311', 'e:\\\\ETL\\\\connexa_monitor\\\\.venv', '', 'e:\\\\ETL\\\\connexa_monitor\\\\.venv\\\\Lib\\\\site-packages', 'e:\\\\ETL\\\\connexa_monitor\\\\.venv\\\\Lib\\\\site-packages\\\\win32', 'e:\\\\ETL\\\\connexa_monitor\\\\.venv\\\\Lib\\\\site-packages\\\\win32\\\\lib', 'e:\\\\ETL\\\\connexa_monitor\\\\.venv\\\\Lib\\\\site-packages\\\\Pythonwin', 'e:\\\\ETL\\\\connexa_monitor\\\\pages', 'e:\\\\ETL\\\\connexa_monitor']\n",
      "186.158.182.54\n",
      "10.54.200.92\n",
      "Directorio actual: e:\\ETL\\connexa_monitor\\pages\n",
      "Directorio actual: e:\\ETL\\connexa_monitor\\pages\n"
     ]
    }
   ],
   "source": [
    "import os\n",
    "import pandas as pd\n",
    "import plotly.express as px\n",
    "import streamlit as st\n",
    "import sys\n",
    "import os\n",
    "\n",
    "# Añadir el path raíz del proyecto\n",
    "project_root = os.path.abspath(os.path.join(os.getcwd()))\n",
    "sys.path.append(project_root)\n",
    "# Subir un nivel desde el directorio actual del notebook\n",
    "parent_dir = os.path.abspath(os.path.join(os.getcwd(), '..'))\n",
    "sys.path.append(parent_dir)\n",
    "\n",
    "# Verifica que 'modules' esté en el path\n",
    "print(sys.path)\n",
    "\n",
    "from modules.db import get_sqlserver_engine, get_pg_engine\n",
    "from modules.ui import render_header, make_date_filters\n",
    "from modules.queries import (\n",
    "    SQL_SGM_KIKKER_VS_OC_MENSUAL,\n",
    "    SQL_SGM_KIKKER_DETALLE,\n",
    "    SQL_SGM_KIKKER_DUP,\n",
    "    SQL_PG_KIKKER_MENSUAL,\n",
    "    SQL_C_COMPRA_KIKKERP_GEN,\n",
    "    SQL_C_COMPRA_KIKKER_GEN,\n",
    ")\n",
    "\n",
    "# Imprimir directorio actual para depuración\n",
    "print(f\"Directorio actual: {os.getcwd()}\") \n",
    "\n",
    "# from modules.queries import (\n",
    "#     SQL_OC_GENERADAS_RANGO,\n",
    "#     SQL_OC_GENERADAS_RANGO_EXT,\n",
    "#     SQL_RANKING_COMPRADORES,\n",
    "#     SQL_RANKING_COMPRADORES_NOMBRE,\n",
    "# )\n",
    "\n",
    "# Imprimir directorio actual para depuración\n",
    "print(f\"Directorio actual: {os.getcwd()}\")  \n"
   ]
  },
  {
   "cell_type": "code",
   "execution_count": null,
   "id": "30f9d6d8",
   "metadata": {},
   "outputs": [
    {
     "name": "stdout",
     "output_type": "stream",
     "text": [
      "186.158.182.54\n",
      "10.54.200.92\n",
      "Conectando a PG en 186.158.182.54:5432 a la base diarco_data con usuario postgres\n"
     ]
    }
   ],
   "source": [
    "\n",
    "import os\n",
    "from functools import lru_cache\n",
    "from sqlalchemy import create_engine, text\n",
    "from dotenv import load_dotenv\n",
    "from datetime import timedelta\n",
    "\n",
    "load_dotenv()\n",
    "print (os.getenv(\"PG_HOST\",\"no-pg-host\"))\n",
    "print (os.getenv(\"SQL_SERVER\",\"no-SQL-host\"))\n",
    "\n",
    "host = os.getenv(\"PG_HOST\",\"186.158.182.54\")\n",
    "port = os.getenv(\"PG_PORT\",\"5432\")\n",
    "db   = os.getenv(\"PG_DB\",\"diarco_data\")\n",
    "user = os.getenv(\"PG_USER\",\"postgres\")\n",
    "pw   = os.getenv(\"PG_PASSWORD\",\"postgres\")\n",
    "\n",
    "print(f\"Conectando a PG en {host}:{port} a la base {db} con usuario {user}\")"
   ]
  },
  {
   "cell_type": "code",
   "execution_count": 3,
   "id": "91133aac",
   "metadata": {},
   "outputs": [],
   "source": [
    "def fetch_sgm_mensual(desde, hasta):\n",
    "    eng = get_sqlserver_engine()\n",
    "    if eng is None: return pd.DataFrame()\n",
    "    with eng.connect() as con:\n",
    "        df = pd.read_sql(SQL_SGM_KIKKER_VS_OC_MENSUAL, con, params={\"desde\": desde, \"hasta\": hasta})\n",
    "    return df\n",
    "\n",
    "def fetch_sgm_detalle(desde, hasta):\n",
    "    eng = get_sqlserver_engine()\n",
    "    if eng is None: return pd.DataFrame()\n",
    "    with eng.connect() as con:\n",
    "        df = pd.read_sql(SQL_SGM_KIKKER_DETALLE, con, params={\"desde\": desde, \"hasta\": hasta})\n",
    "    return df\n",
    "\n",
    "def fetch_pg_kikker_mensual(desde, hasta):\n",
    "    eng = get_pg_engine()\n",
    "    with eng.connect() as con:\n",
    "        df = pd.read_sql(SQL_PG_KIKKER_MENSUAL, con, params={\"desde\": desde, \"hasta\": hasta})\n",
    "    return df\n",
    "\n",
    "def fetch_sgm_dup(desde, hasta):\n",
    "    eng = get_sqlserver_engine()\n",
    "    if eng is None: return pd.DataFrame()\n",
    "    with eng.connect() as con:\n",
    "        df = pd.read_sql(SQL_SGM_KIKKER_DUP, con, params={\"desde\": desde, \"hasta\": hasta})\n",
    "    return df"
   ]
  },
  {
   "cell_type": "code",
   "execution_count": 4,
   "id": "2e8dd6ae",
   "metadata": {},
   "outputs": [],
   "source": [
    "desde = pd.to_datetime(\"2025-07-01\").date()\n",
    "hasta = pd.to_datetime(\"2025-08-31\").date()\n"
   ]
  },
  {
   "cell_type": "code",
   "execution_count": 5,
   "id": "dea7c66d",
   "metadata": {},
   "outputs": [],
   "source": [
    "sgm_d = fetch_sgm_detalle(desde, hasta)\n",
    "pg_m  = fetch_pg_kikker_mensual(desde, hasta)\n",
    "dup   = fetch_sgm_dup(desde, hasta)"
   ]
  },
  {
   "cell_type": "code",
   "execution_count": 8,
   "id": "0a70dd97",
   "metadata": {},
   "outputs": [],
   "source": [
    "if sgm_d.empty:\n",
    "        st.info(\"Sin detalle SGM para reconciliar.\")\n",
    "else:\n",
    "    # set de KIKKER en SGM\n",
    "    eng_pg = get_pg_engine()\n",
    "    hasta_mas_1 = hasta + timedelta(days=1) # type: ignore\n",
    "\n",
    "    with eng_pg.connect() as con:\n",
    "        df_pg_k = pd.read_sql(SQL_C_COMPRA_KIKKER_GEN, con, params={\"desde\": desde, \"hasta_mas_1\": hasta_mas_1}) # type: ignore\n",
    "\n",
    "\n",
    "    sgm_k = sgm_d[[\"C_COMPRA_KIKKER\"]].dropna().drop_duplicates().rename(columns={\"C_COMPRA_KIKKER\":\"kikker\"})\n",
    "    recon = sgm_k.merge(df_pg_k, on=\"kikker\", how=\"outer\", indicator=True)\n",
    "    recon[\"estado\"] = recon[\"_merge\"].map({\n",
    "        \"both\": \"OK (1:1)\",\n",
    "        \"left_only\": \"SGM sin CONNEXA\",\n",
    "        \"right_only\": \"CONNEXA sin SGM\",\n",
    "    })\n",
    "    kpis = recon[\"estado\"].value_counts().to_frame(\"kikkers\").reset_index().rename(columns={\"index\":\"estado\"})\n"
   ]
  },
  {
   "cell_type": "code",
   "execution_count": null,
   "id": "e32c854c",
   "metadata": {},
   "outputs": [
    {
     "name": "stdout",
     "output_type": "stream",
     "text": [
      "Encontrados 37 KIKKER únicos en PG entre 2025-07-01 y 2025-08-31\n"
     ]
    }
   ],
   "source": [
    "# set de KIKKER en SGM\n",
    "\n",
    "\n",
    "eng_pg = get_pg_engine()\n",
    "hasta_mas_1 = hasta + timedelta(days=1)\n",
    "\n",
    "with eng_pg.connect() as con:\n",
    "    df_pg_k = pd.read_sql(SQL_C_COMPRA_KIKKER_GEN, con, params={\"desde\": desde, \"hasta_mas_1\": hasta_mas_1})\n",
    "\n",
    "print(f\"Encontrados {len(df_pg_k)} KIKKER únicos en PG entre {desde} y {hasta}\")\n",
    "\n"
   ]
  },
  {
   "cell_type": "code",
   "execution_count": null,
   "id": "8403f11c",
   "metadata": {},
   "outputs": [],
   "source": [
    " \n"
   ]
  }
 ],
 "metadata": {
  "kernelspec": {
   "display_name": ".venv",
   "language": "python",
   "name": "python3"
  },
  "language_info": {
   "codemirror_mode": {
    "name": "ipython",
    "version": 3
   },
   "file_extension": ".py",
   "mimetype": "text/x-python",
   "name": "python",
   "nbconvert_exporter": "python",
   "pygments_lexer": "ipython3",
   "version": "3.11.8"
  }
 },
 "nbformat": 4,
 "nbformat_minor": 5
}
